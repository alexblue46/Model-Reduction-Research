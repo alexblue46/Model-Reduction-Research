{
 "cells": [
  {
   "cell_type": "markdown",
   "metadata": {},
   "source": [
    "# ROM Library"
   ]
  },
  {
   "cell_type": "code",
   "execution_count": null,
   "metadata": {},
   "outputs": [],
   "source": [
    "import numpy as np\n",
    "import math as m\n",
    "from scipy import linalg\n",
    "from scipy.sparse import diags\n",
    "from mpl_toolkits import mplot3d\n",
    "import matplotlib.pyplot as plt\n",
    "\n",
    "#Define the ROM class\n",
    "class ROM():"
   ]
  },
  {
   "cell_type": "markdown",
   "metadata": {},
   "source": [
    "We first define the __init__ function which initializes a new ROM object"
   ]
  },
  {
   "cell_type": "code",
   "execution_count": null,
   "metadata": {},
   "outputs": [],
   "source": [
    "def __init__(self,  kconstant, discretization =[], rom_type='POD', x_domain=[[1]], nxs = [20], time_int= 1):\n",
    "        \"\"\"\n",
    "        defines a new R(educed)O(rder)M(odel) object.\n",
    "        \"\"\"\n",
    "        self.disc = discretization\n",
    "        \n",
    "        self.romtype = rom_type\n",
    "        \n",
    "        self.x1 = x_domain[0]\n",
    "        \n",
    "        if len(x_domain)>1:\n",
    "            self.x2 = x_domain[1]\n",
    "            \n",
    "        self.time = time_int\n",
    "        \n",
    "        self.k = kconstant\n",
    "        \n",
    "        self.n1 = nxs[0]\n",
    "        \n",
    "        if len(nxs)>1:\n",
    "            self.n2 = nxs[1]"
   ]
  },
  {
   "cell_type": "markdown",
   "metadata": {},
   "source": [
    "where the inputs are:\n",
    "\n",
    "1) discretization: The matrix that defines the dynamical system. May be passed as a single array or a list [matrices,coefficients] where matrices is a 3d-array and coefficients is a list of real numbers. This is used if the discretization matrix can be described as a sum of other matrices for more efficient computation.\n",
    "\n",
    "2) kconstant: The number of columns one wishes to use in the low rank model\n",
    "\n",
    "3) rom_type: A string that corresponds to the type of model reduction technique one wishes to use. Default is 'POD'\n",
    "\n",
    "4) x_domain: A list of 1 or 2 lists, where the first list is an x1 mesh, and the second optional list is an x2 mesh.\n",
    "\n",
    "5) nxs : a list of 1 or 2 integers, where the first integer is the number of x1 points in the x1 mesh, and the second optional integer is the number of x2 points in the x2 mesh.\n",
    "\n",
    "6) time_int: An integer that indicates the time at which calculations are stopped. Default is 1.\n",
    "\n",
    "\n",
    "    "
   ]
  },
  {
   "cell_type": "code",
   "execution_count": null,
   "metadata": {},
   "outputs": [],
   "source": [
    "def set_k(self,new_k):\n",
    "        \"\"\"\n",
    "        changes the number of columns used in the low rank approximation\n",
    "        \"\"\"\n",
    "        self.k = new_k\n",
    "        \n",
    "        return self"
   ]
  },
  {
   "cell_type": "markdown",
   "metadata": {},
   "source": [
    "This function changes the k-constant."
   ]
  },
  {
   "cell_type": "code",
   "execution_count": null,
   "metadata": {},
   "outputs": [],
   "source": [
    "def get_romtype(self):\n",
    "        \"\"\"\n",
    "        returns a string describing the model reduction method\n",
    "        \"\"\"\n",
    "        return str(self.romtype)"
   ]
  },
  {
   "cell_type": "markdown",
   "metadata": {},
   "source": [
    "This function returns the ROM type of an ROM object"
   ]
  },
  {
   "cell_type": "code",
   "execution_count": null,
   "metadata": {},
   "outputs": [],
   "source": [
    "def format_disc(self, left, right):\n",
    "        \"\"\"\n",
    "        If discretization is passed through as list of matrices and coefficients, [matrices,coefficients]\n",
    "        then we efficiently multiply on the left or right by matrices. 'left' and 'right' are matrices whose dimensions match \n",
    "        the discretization matrix\n",
    "        \"\"\"\n",
    "        matrices = self.disc[0]\n",
    "        coeff = self.disc[1]\n",
    "        \n",
    "        summation = np.zeros((np.shape(left)[0],np.shape(right)[1]))\n",
    "\n",
    "        for i in range(len(coeff)):\n",
    "            summation += coeff[i]* (left @ matrices[:,:,i] @ right)\n",
    "        \n",
    "        return summation"
   ]
  },
  {
   "cell_type": "markdown",
   "metadata": {},
   "source": [
    "If the discretization matrix A is a weighted sum of matrices, we can calculate the product LAR efficiently by expansion. This function returns the product LAR."
   ]
  },
  {
   "cell_type": "code",
   "execution_count": null,
   "metadata": {},
   "outputs": [],
   "source": [
    "def pod_method(self, Y, y0, x_domain, plot_it = False, x2=False, nt=100, t_step=10):\n",
    "        \"\"\"\n",
    "        Implementation of the POD method. Returns the snapshot matrix.\n",
    "        \"\"\"\n",
    "        time_int = np.linspace(0,self.time,nt)\n",
    "        if x2 == False:\n",
    "            Ymean = np.mean(Y, 1)\n",
    "            \n",
    "            Y = Y - (Ymean @ np.ones((self.n1,nt)))\n",
    "            U, S, V = linalg.svd(Y, full_matrices = True)\n",
    "            \n",
    "            Uk = U[:,0:self.k]\n",
    "            Ukt = np.transpose(Uk)\n",
    "            B =  Ukt @ self.disc @ Uk\n",
    "            y0k = Ukt @ (y0-Ymean)\n",
    "\n",
    "            ###Solve POD Dynamical System\n",
    "            Y_hat= np.zeros((self.k,nt))\n",
    "\n",
    "            Y_hat[:,0]=y0k\n",
    "\n",
    "            for j in np.arange(1,nt,1):\n",
    "                Y_hat[:,j] = linalg.expm(B*time_int[j]) @ np.array(y0k) + linalg.inv(B) @ (linalg.expm(B*time_int[j]) - np.eye(self.k)) @ np.transpose(Uk) @ self.disc @ Ymean\n",
    "            ##################\n",
    "            if plot_it == True:\n",
    "                [x,y] = np.meshgrid(self.x1,time_int)\n",
    "                fig = plt.figure()\n",
    "                ax = plt.axes(projection='3d')\n",
    "                ax.plot_surface(x, y, np.transpose(Uk @ Y_hat + Ymean @ np.ones((self.n1,nt))), rstride=1, cstride=1,cmap='viridis',edgecolor='none')\n",
    "                plt.xlabel('x')\n",
    "                plt.ylabel('time')\n",
    "                plt.title(f'POD-Plot, k={self.k}')\n",
    "                plt.show()\n",
    "\n",
    "            return Y_hat\n",
    "        else:\n",
    "            DELTA_T =self.time/float(nt)\n",
    "            ymean = np.mean(Y, 1)\n",
    "            ymean = np.reshape(ymean,(self.n1*self.n2,1))\n",
    "            ej=np.ones((1,nt+1))\n",
    "            Y -= ymean @ ej\n",
    "            U, S, V = linalg.svd(Y, full_matrices = True)\n",
    "            Uk = U[: , 0:self.k]\n",
    "            Ak = np.transpose(Uk) @ self.disc @ Uk\n",
    "            Ik = np.eye(self.k)\n",
    "            Yk = np.zeros((self.k, nt +1))\n",
    "\n",
    "            y0k = np.transpose(Uk) @ (np.reshape(y0, (self.n1*self.n2,1)) - ymean)\n",
    "            y0k = np.reshape(y0k,(self.k,))\n",
    "            yAk = np.transpose(Uk) @ (self.disc @ ymean)\n",
    "            yAk = np.reshape(yAk,(self.k,))\n",
    "            Yk[: ,0] = y0k\n",
    "\n",
    "\n",
    "            for it in range(nt):\n",
    "                Yk[: , it+1] = linalg.solve((Ik-DELTA_T*Ak),(Yk[: , it] + DELTA_T* yAk ))\n",
    "\n",
    "            Y += ymean @ np.ones((1,nt+1))\n",
    "\n",
    "            if plot_it == True:\n",
    "                for it in np.arange(0,nt+1,t_step):\n",
    "                    fig = plt.figure() \n",
    "                    yPOD = Uk @ np.reshape(Yk[: , it],(self.k,1)) + ymean\n",
    "                    yplot = np.zeros((self.n1+1,self.n2+2))\n",
    "                    yplot[1:self.n1+1,1:self.n2+1] = np.reshape(yPOD,(self.n1 ,self.n2))\n",
    "                    yplot[0 ,:] = yplot[self.n1,:]\n",
    "                    \n",
    "                    [X1,X2]= np.meshgrid(self.x1,self.x2)\n",
    "                    ax = plt.axes(projection='3d')\n",
    "                    ax.plot_surface(X1, X2, np.transpose(yplot), rstride=1, cstride=1,cmap='viridis',edgecolor='none')\n",
    "                    plt.xlabel('x1')\n",
    "                    plt.ylabel('x2')\n",
    "                    plt.title(f't={it/100}')\n",
    "                    plt.show()\n",
    "            \n",
    "            return Yk"
   ]
  },
  {
   "cell_type": "markdown",
   "metadata": {},
   "source": [
    "Inputs:\n",
    "\n",
    "1) Y, a solution matrix generated by the solve equation method.\n",
    "\n",
    "2) y0, the initial condition. Must be formatted as a list (not an array)\n",
    "\n",
    "3) x_domain, as described initially.\n",
    "\n",
    "4) plot_it, a boolean that tells the function whether to plot the POD solution\n",
    "\n",
    "5) x2, a boolean that tells the function what POD solver to run\n",
    "\n",
    "6) nt, number of time steps. defaults to 100\n",
    "\n",
    "7) time_step, number of time snapshots to plot"
   ]
  },
  {
   "cell_type": "code",
   "execution_count": null,
   "metadata": {},
   "outputs": [],
   "source": [
    "def solve_equation(self, initial_condition, parameter = [], f = [], method = 'exp', x2=False, nt= 100):    \n",
    "        \"\"\"\n",
    "        solves system in one of a few ways.\n",
    "        1) matrix exponential : 'exp'.\n",
    "        2) backward euler : 'eul'\n",
    "        3) linear system : 'lin'\n",
    "\n",
    "        initial_condition must be a function\n",
    "        \"\"\"\n",
    "\n",
    "        if method == 'exp':\n",
    "            if x2==False:\n",
    "                y0 = [initial_condition(x) for x in self.x1]\n",
    "                time_int = np.linspace(0,self.time,nt)\n",
    "                ###Solve Dynamical System\n",
    "                Y= np.zeros((len(time_int),nt))\n",
    "\n",
    "                Y[:,0]=y0\n",
    "\n",
    "                for j in np.arange(2,nt,1):\n",
    "                    Y[:,j] = linalg.expm(self.disc*time_int[j]) @ np.array(y0)\n",
    "\n",
    "            else:\n",
    "                return 'Error: only 1-spatial dimension is allowed for this solving technique'\n",
    "            return Y\n",
    "        if method == 'eul':\n",
    "            if x2 == True:\n",
    "                time_int = np.linspace(0,self.time,nt)\n",
    "                delta_t = self.time/float(nt)\n",
    "                nt = len(time_int)\n",
    "\n",
    "                #initial condition\n",
    "                y0 = np.zeros((self.n1 + 1, self.n2 + 2))\n",
    "\n",
    "                for i in range(self.n1 + 1):\n",
    "                    for j in range(self.n2 + 2):\n",
    "                        y0[i,j] = initial_condition(self.x1[i],self.x2[j])\n",
    "\n",
    "                y0 = y0[1:,1:self.n2+1]\n",
    "\n",
    "                I = np.eye(np.shape(self.disc)[0])\n",
    "                Y = np.zeros((self.n1*self.n2,nt + 1))\n",
    "                Y[:,0] = np.reshape(y0,(self.n1*self.n2))\n",
    "\n",
    "                #Solve\n",
    "                for i_t in range(nt):\n",
    "                    Y[:, i_t + 1] = linalg.solve((I-delta_t*self.disc), Y[:,i_t])\n",
    "                return Y\n",
    "        else:\n",
    "            return 'Error: only 2-spatial dimension is allowed for this solving technique'\n",
    "\n",
    "        if method == 'lin':\n",
    "            if x2==True:\n",
    "                Y = np.zeros((self.n1*self.n2,len(parameter)))\n",
    "\n",
    "                for param in parameter:\n",
    "                    Y[:,parameter.index(param)] = linalg.solve(self.disc[:,:,parameter.index(param)],f)\n",
    "        else:\n",
    "            return 'Error: only 2-spatial dimension is allowed for this solving technique'\n",
    "        return Y"
   ]
  },
  {
   "cell_type": "markdown",
   "metadata": {},
   "source": [
    "Inputs:\n",
    "\n",
    "1) initial_condition, a function of x1, or x1 and x2. Optional in the case that one uses the f parameter instead\n",
    "\n",
    "2) parameter, a list of equally spaced numbers that make up an interval. ex: np.linspace(-10,10,101) \n",
    "\n",
    "3) f, the initial condition in the case that one uses the 'lin' solver. a n1xn2 by 1 vector\n",
    "\n",
    "4) method, a string that determines which solver to use. ('lin','exp','eul')\n",
    "\n",
    "5) x2, a boolean that tells the function if the chosen solver will work\n",
    "\n",
    "6) nt, number of time steps. defaults to 100"
   ]
  },
  {
   "cell_type": "code",
   "execution_count": null,
   "metadata": {},
   "outputs": [],
   "source": [
    "def plot_snapshot_FD(self, snapshot, ylabel, xlabel, x2 = False, nt=100):\n",
    "        \"\"\"\n",
    "        Plots the snapshot matrix in a surface plot. Only works for 2 spatial dimensions or less. \n",
    "        A different function is required to plot 3+ spatial dimensional problems\n",
    "        \"\"\"\n",
    "        time_int = np.linspace(0,self.time,nt)\n",
    "        if x2 == False:\n",
    "            [x,y] = np.meshgrid(self.x1,time_int)\n",
    "        else:\n",
    "            [x,y] = np.meshgrid(self.x1,self.x2)\n",
    "\n",
    "        fig = plt.figure()\n",
    "        ax = plt.axes(projection='3d')\n",
    "        ax.plot_surface(x, y, np.transpose(snapshot), rstride=1, cstride=1,cmap='viridis',edgecolor='none')\n",
    "    \n",
    "        plt.xlabel(xlabel)\n",
    "        plt.ylabel(ylabel)\n",
    "        plt.title(f'FD-plot, k={self.k}')\n",
    "        plt.show()"
   ]
  },
  {
   "cell_type": "markdown",
   "metadata": {},
   "source": [
    "Given a snapshot matrix as input, plots the solution."
   ]
  },
  {
   "cell_type": "markdown",
   "metadata": {},
   "source": [
    "Here are a few more functions for setting the k constant, with a tolerance for the singular values of the snapshot matrix."
   ]
  },
  {
   "cell_type": "code",
   "execution_count": null,
   "metadata": {},
   "outputs": [],
   "source": [
    "def smart_set_k(self,Snapshot_m,tol=.001):\n",
    "        self.set_k(find_k(Snapshot_m,tol))\n",
    "        "
   ]
  },
  {
   "cell_type": "code",
   "execution_count": null,
   "metadata": {},
   "outputs": [],
   "source": [
    "###NOT IN THE CLASS DEFINITION###\n",
    "def find_k(Snapshot_m, tol = .001):\n",
    "    [S ,V ,D] = linalg.svd(Snapshot_m)\n",
    "    \n",
    "    counter = 0\n",
    "    for value in V:\n",
    "        if value>tol:\n",
    "            counter+=1\n",
    "        \n",
    "    return counter"
   ]
  }
 ],
 "metadata": {
  "kernelspec": {
   "display_name": "Python 3",
   "language": "python",
   "name": "python3"
  },
  "language_info": {
   "codemirror_mode": {
    "name": "ipython",
    "version": 3
   },
   "file_extension": ".py",
   "mimetype": "text/x-python",
   "name": "python",
   "nbconvert_exporter": "python",
   "pygments_lexer": "ipython3",
   "version": "3.7.3"
  }
 },
 "nbformat": 4,
 "nbformat_minor": 2
}
